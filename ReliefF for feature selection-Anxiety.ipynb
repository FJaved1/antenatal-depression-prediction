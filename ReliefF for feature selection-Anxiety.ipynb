{
 "cells": [
  {
   "cell_type": "code",
   "execution_count": 20,
   "metadata": {},
   "outputs": [],
   "source": [
    "import pandas as pd\n",
    "import numpy as np\n",
    "from sklearn.pipeline import make_pipeline\n",
    "from skrebate.turf import TuRF\n",
    "import matplotlib.pyplot as plt"
   ]
  },
  {
   "cell_type": "code",
   "execution_count": 2,
   "metadata": {},
   "outputs": [],
   "source": [
    "dataset = pd.read_csv(r\"C:\\Users\\HP\\Desktop\\perinatal_prediction\\Final\\FSAnxietyTrain.csv\")\n",
    "dataset = dataset.drop('Unnamed: 0', axis = 1)"
   ]
  },
  {
   "cell_type": "code",
   "execution_count": 3,
   "metadata": {},
   "outputs": [
    {
     "name": "stdout",
     "output_type": "stream",
     "text": [
      "Created distance array in 0.09375286102294922 seconds.\n",
      "Feature scoring under way ...\n",
      "Completed scoring in 13.699408531188965 seconds.\n",
      "Created distance array in 0.019988536834716797 seconds.\n",
      "Feature scoring under way ...\n",
      "Completed scoring in 7.833094120025635 seconds.\n",
      "Created distance array in 0.013965845108032227 seconds.\n",
      "Feature scoring under way ...\n",
      "Completed scoring in 5.317043781280518 seconds.\n",
      "Ethnicity \t 0.0371203012422266\n",
      "Education \t 0.0385976506211133\n",
      "background \t 0.09887499999999995\n",
      "Household_Income \t 0.0385976506211133\n",
      "Household_decision \t 0.14529999999999993\n",
      "Age_Maternalnew \t 0.06508897727272725\n",
      "LiveBirths \t 0.06812500000000006\n",
      "StillBirths \t 0.0385976506211133\n",
      "Fights_inlaws \t 0.0371203012422266\n",
      "Child_death \t 0.0371203012422266\n",
      "Miscarriage \t 0.0385976506211133\n",
      "Relationship_prob \t 0.0371203012422266\n",
      "Long_illness \t 0.0385976506211133\n",
      "other \t 0.0385976506211133\n",
      "Social_Support \t 0.18780993788866954\n",
      "Total_svd \t 0.0385976506211133\n",
      "total_epiziotomies \t 0.0371203012422266\n",
      "Total_Csection \t 0.0385976506211133\n",
      "Female_total \t 0.0385976506211133\n",
      "Male_total \t 0.0385976506211133\n",
      "People_living \t 0.0385976506211133\n",
      "Pregnancy \t 0.11375000000000016\n",
      "Menstrual_history \t 0.0385976506211133\n",
      "Used_Plannig \t 0.11665000000000003\n",
      "Duration_Marriage \t 0.09524215116279065\n",
      "Age \t 0.10615666666666658\n",
      "Smoking \t 0.0371203012422266\n",
      "Substance_abuse \t 0.0371203012422266\n",
      "Adverse_outcomes \t 0.0385976506211133\n",
      "Abortion \t 0.0371203012422266\n",
      "Past_Psych \t 0.0371203012422266\n",
      "Family_psych \t 0.0371203012422266\n",
      "PArent_death \t 0.0371203012422266\n",
      "Harrasment \t 0.0371203012422266\n",
      "Domestc_violence \t 0.0371203012422266\n",
      "Occupation \t 0.0371203012422266\n"
     ]
    }
   ],
   "source": [
    "features, labels = dataset.drop('AnxietyDi', axis=1).values, dataset['AnxietyDi'].values\n",
    "headers = list(dataset.drop(\"AnxietyDi\", axis=1))\n",
    "fs = TuRF(core_algorithm=\"ReliefF\", n_features_to_select=15, pct=0.4,verbose=True)\n",
    "fs.fit(features, labels, headers)\n",
    "for feature_name, feature_score in zip(dataset.drop('AnxietyDi', axis=1).columns, fs.feature_importances_):\n",
    "    print(feature_name, '\\t', feature_score)"
   ]
  },
  {
   "cell_type": "code",
   "execution_count": 4,
   "metadata": {},
   "outputs": [
    {
     "name": "stdout",
     "output_type": "stream",
     "text": [
      "[0.0371203  0.03859765 0.098875   0.03859765 0.1453     0.06508898\n",
      " 0.068125   0.03859765 0.0371203  0.0371203  0.03859765 0.0371203\n",
      " 0.03859765 0.03859765 0.18780994 0.03859765 0.0371203  0.03859765\n",
      " 0.03859765 0.03859765 0.03859765 0.11375    0.03859765 0.11665\n",
      " 0.09524215 0.10615667 0.0371203  0.0371203  0.03859765 0.0371203\n",
      " 0.0371203  0.0371203  0.0371203  0.0371203  0.0371203  0.0371203 ]\n"
     ]
    }
   ],
   "source": [
    "print(fs.feature_importances_)"
   ]
  },
  {
   "cell_type": "code",
   "execution_count": 5,
   "metadata": {},
   "outputs": [
    {
     "name": "stdout",
     "output_type": "stream",
     "text": [
      "[14, 4, 21, 23, 25, 24, 2, 6, 5, 17, 19, 28, 18]\n"
     ]
    }
   ],
   "source": [
    "print(fs.top_features_)"
   ]
  },
  {
   "cell_type": "code",
   "execution_count": 6,
   "metadata": {},
   "outputs": [],
   "source": [
    "#[14, 4, 23, 21, 2, 17, 6, 19, 5, 25, 18, 28, 15]"
   ]
  },
  {
   "cell_type": "code",
   "execution_count": 8,
   "metadata": {},
   "outputs": [],
   "source": [
    "import seaborn as sns\n",
    "arr = fs.feature_importances_\n",
    "arr.sort()\n",
    "newdf = pd.DataFrame(arr)"
   ]
  },
  {
   "cell_type": "code",
   "execution_count": 27,
   "metadata": {},
   "outputs": [
    {
     "data": {
      "image/png": "[encoded data removed]",
      "text/plain": [
       "<Figure size 360x360 with 1 Axes>"
      ]
     },
     "metadata": {
      "needs_background": "light"
     },
     "output_type": "display_data"
    }
   ],
   "source": [
    "ax = sns.catplot(data=newdf, kind=\"swarm\")\n",
    "plt.xlabel('Features For Anxiety',fontsize=12)\n",
    "plt.ylabel('Feature Importance Score',fontsize=12)\n",
    "plt.savefig(\"FSA.png\", dpi = 600, bbox_inches='tight')"
   ]
  },
  {
   "cell_type": "code",
   "execution_count": null,
   "metadata": {},
   "outputs": [],
   "source": []
  }
 ],
 "metadata": {
  "kernelspec": {
   "display_name": "Python 3",
   "language": "python",
   "name": "python3"
  },
  "language_info": {
   "codemirror_mode": {
    "name": "ipython",
    "version": 3
   },
   "file_extension": ".py",
   "mimetype": "text/x-python",
   "name": "python",
   "nbconvert_exporter": "python",
   "pygments_lexer": "ipython3",
   "version": "3.7.0"
  }
 },
 "nbformat": 4,
 "nbformat_minor": 2
}

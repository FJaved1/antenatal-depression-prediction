{
 "cells": [
  {
   "cell_type": "code",
   "execution_count": 54,
   "metadata": {},
   "outputs": [],
   "source": [
    "import numpy as np\n",
    "import pandas as pd\n",
    "import matplotlib.pyplot as plt\n",
    "%matplotlib inline\n",
    "\n",
    "from sklearn.metrics import classification_report\n",
    "from sklearn.preprocessing import LabelEncoder\n",
    "from sklearn.metrics import confusion_matrix\n",
    "from sklearn.metrics import precision_score\n",
    "from sklearn import preprocessing\n",
    "from sklearn.model_selection import cross_val_score\n",
    "from sklearn.preprocessing import StandardScaler\n",
    "from sklearn.preprocessing import RobustScaler\n",
    "from sklearn.model_selection import StratifiedKFold\n",
    "from sklearn.model_selection import KFold\n",
    "from sklearn.preprocessing import OneHotEncoder\n",
    "from sklearn.compose import ColumnTransformer\n",
    "from sklearn.preprocessing import StandardScaler, OneHotEncoder\n",
    "\n",
    "\n",
    "import keras\n",
    "import keras.backend as K\n",
    "from keras.models import Sequential\n",
    "from keras.optimizers import Adagrad\n",
    "from keras.optimizers import Adam\n",
    "from keras.callbacks import EarlyStopping\n",
    "from keras.utils import to_categorical\n",
    "from keras.layers import BatchNormalization\n",
    "from keras import regularizers\n",
    "from keras.wrappers.scikit_learn import KerasClassifier\n",
    "from keras.layers import Dense, Dropout, Activation\n",
    "from keras.utils import np_utils\n",
    "from keras import regularizers\n",
    "from keras import initializers\n",
    "from keras.optimizers import SGD"
   ]
  },
  {
   "cell_type": "code",
   "execution_count": 55,
   "metadata": {},
   "outputs": [],
   "source": [
    "# load dataset\n",
    "dataset = pd.read_csv(r\"C:\\Users\\HP\\Desktop\\Final\\Train-72P.csv\")\n",
    "dataset = dataset.drop('Unnamed: 0', axis = 1)"
   ]
  },
  {
   "cell_type": "code",
   "execution_count": 56,
   "metadata": {},
   "outputs": [],
   "source": [
    "# load dataset\n",
    "valdata = pd.read_csv(r\"C:\\Users\\HP\\Desktop\\Final\\Validation-8P.csv\")\n",
    "valdata = valdata.drop('Unnamed: 0', axis = 1)"
   ]
  },
  {
   "cell_type": "code",
   "execution_count": 57,
   "metadata": {},
   "outputs": [],
   "source": [
    "X = dataset.drop(['DepressionDi'],axis=1).values #features = X arrays \n",
    "y_train = dataset['DepressionDi'].values #labels = y arrays"
   ]
  },
  {
   "cell_type": "code",
   "execution_count": 58,
   "metadata": {},
   "outputs": [],
   "source": [
    "X_val = valdata.drop(['DepressionDi'],axis=1).values #features = X arrays \n",
    "y_val = valdata['DepressionDi'].values #labels = y arrays"
   ]
  },
  {
   "cell_type": "code",
   "execution_count": 59,
   "metadata": {},
   "outputs": [],
   "source": [
    "columns_to_encode = [\n",
    "'background',\n",
    "'Household_decision'\n",
    " ]\n",
    "columns_to_scale  = [\n",
    " 'Stat1',\n",
    " 'Stat2',\n",
    " 'Stat3',\n",
    " 'Stat4',\n",
    " 'Stat5',\n",
    " 'Stat6',\n",
    " 'Stat7',\n",
    " 'Stat8',\n",
    " 'Stat9',\n",
    " 'Stat10',\n",
    " 'Stat11',\n",
    " 'Stat12',\n",
    " 'Stat13',\n",
    " 'Stat14',\n",
    " 'Stat15',\n",
    " 'Stat16',\n",
    " 'Stat17',\n",
    " 'Stat18',\n",
    " 'Stat19',\n",
    " 'Stat20',\n",
    " 'Stat21',\n",
    " 'Stat22',\n",
    " 'Stat23',\n",
    " 'Stat24'\n",
    "]\n",
    "\n",
    "\n",
    "# Instantiate encoder/scaler\n",
    "scaler = StandardScaler()\n",
    "ohe    = OneHotEncoder(sparse=False)\n",
    "\n",
    "\n",
    "\n",
    "# Scale and Encode Separate Columns\n",
    "scaled_columns  = scaler.fit_transform(dataset[columns_to_scale]) \n",
    "encoded_columns =    ohe.fit_transform(dataset[columns_to_encode])\n",
    "#encoded_columns = encoder.fit_transform(dataset[columns_to_encode])\n",
    "\n",
    "# Concatenate (Column-Bind) Processed Columns Back Together\n",
    "X_train = np.concatenate([scaled_columns, encoded_columns], axis=1)"
   ]
  },
  {
   "cell_type": "code",
   "execution_count": 60,
   "metadata": {},
   "outputs": [],
   "source": [
    "columns_to_encode = [\n",
    "'background',\n",
    "'Household_decision'\n",
    " ]\n",
    "columns_to_scale  = [\n",
    " 'Stat1',\n",
    " 'Stat2',\n",
    " 'Stat3',\n",
    " 'Stat4',\n",
    " 'Stat5',\n",
    " 'Stat6',\n",
    " 'Stat7',\n",
    " 'Stat8',\n",
    " 'Stat9',\n",
    " 'Stat10',\n",
    " 'Stat11',\n",
    " 'Stat12',\n",
    " 'Stat13',\n",
    " 'Stat14',\n",
    " 'Stat15',\n",
    " 'Stat16',\n",
    " 'Stat17',\n",
    " 'Stat18',\n",
    " 'Stat19',\n",
    " 'Stat20',\n",
    " 'Stat21',\n",
    " 'Stat22',\n",
    " 'Stat23',\n",
    " 'Stat24'\n",
    "]\n",
    "\n",
    "\n",
    "# Scale and Encode Separate Columns\n",
    "scaled_columns  = scaler.transform(valdata[columns_to_scale]) \n",
    "encoded_columns =    ohe.transform(valdata[columns_to_encode])\n",
    "\n",
    "# Concatenate (Column-Bind) Processed Columns Back Together\n",
    "X_val = np.concatenate([scaled_columns, encoded_columns], axis=1)"
   ]
  },
  {
   "cell_type": "code",
   "execution_count": 61,
   "metadata": {},
   "outputs": [],
   "source": [
    "model = Sequential()\n",
    "model.add(Dense(11,input_shape=(31,),activation='relu',kernel_regularizer=regularizers.l2(0.01),kernel_initializer = initializers.glorot_uniform(seed=None)))\n",
    "model.add(Dense(7,activation='relu',kernel_regularizer=regularizers.l2(0.01),kernel_initializer = initializers.glorot_uniform(seed=None)))\n",
    "model.add(Dense(1, activation='sigmoid',kernel_regularizer=regularizers.l2(0.01), kernel_initializer = initializers.glorot_uniform(seed=None)))\n",
    "\n",
    "\n",
    "model.compile(loss='binary_crossentropy',optimizer=Adam(lr = 0.001),metrics = ['accuracy'])"
   ]
  },
  {
   "cell_type": "code",
   "execution_count": 62,
   "metadata": {},
   "outputs": [
    {
     "name": "stdout",
     "output_type": "stream",
     "text": [
      "Train on 360 samples, validate on 40 samples\n",
      "Epoch 1/90\n",
      "360/360 [==============================] - 0s 1ms/step - loss: 1.0242 - acc: 0.5167 - val_loss: 0.9478 - val_acc: 0.5750\n",
      "Epoch 2/90\n",
      "360/360 [==============================] - 0s 67us/step - loss: 0.9744 - acc: 0.5389 - val_loss: 0.9094 - val_acc: 0.7000\n",
      "Epoch 3/90\n",
      "360/360 [==============================] - 0s 47us/step - loss: 0.9374 - acc: 0.5472 - val_loss: 0.8833 - val_acc: 0.6750\n",
      "Epoch 4/90\n",
      "360/360 [==============================] - 0s 47us/step - loss: 0.9116 - acc: 0.5778 - val_loss: 0.8633 - val_acc: 0.6500\n",
      "Epoch 5/90\n",
      "360/360 [==============================] - 0s 47us/step - loss: 0.8900 - acc: 0.6139 - val_loss: 0.8463 - val_acc: 0.7000\n",
      "Epoch 6/90\n",
      "360/360 [==============================] - 0s 47us/step - loss: 0.8702 - acc: 0.6361 - val_loss: 0.8314 - val_acc: 0.7750\n",
      "Epoch 7/90\n",
      "360/360 [==============================] - 0s 46us/step - loss: 0.8524 - acc: 0.6583 - val_loss: 0.8199 - val_acc: 0.7750\n",
      "Epoch 8/90\n",
      "360/360 [==============================] - 0s 47us/step - loss: 0.8371 - acc: 0.6583 - val_loss: 0.8076 - val_acc: 0.7750\n",
      "Epoch 9/90\n",
      "360/360 [==============================] - 0s 47us/step - loss: 0.8226 - acc: 0.6722 - val_loss: 0.7958 - val_acc: 0.7750\n",
      "Epoch 10/90\n",
      "360/360 [==============================] - 0s 47us/step - loss: 0.8090 - acc: 0.6694 - val_loss: 0.7830 - val_acc: 0.7750\n",
      "Epoch 11/90\n",
      "360/360 [==============================] - 0s 49us/step - loss: 0.7959 - acc: 0.6806 - val_loss: 0.7716 - val_acc: 0.7750\n",
      "Epoch 12/90\n",
      "360/360 [==============================] - 0s 49us/step - loss: 0.7835 - acc: 0.6806 - val_loss: 0.7606 - val_acc: 0.7750\n",
      "Epoch 13/90\n",
      "360/360 [==============================] - 0s 66us/step - loss: 0.7708 - acc: 0.6972 - val_loss: 0.7484 - val_acc: 0.7750\n",
      "Epoch 14/90\n",
      "360/360 [==============================] - 0s 61us/step - loss: 0.7583 - acc: 0.7111 - val_loss: 0.7356 - val_acc: 0.8000\n",
      "Epoch 15/90\n",
      "360/360 [==============================] - 0s 50us/step - loss: 0.7465 - acc: 0.7167 - val_loss: 0.7239 - val_acc: 0.8000\n",
      "Epoch 16/90\n",
      "360/360 [==============================] - 0s 47us/step - loss: 0.7349 - acc: 0.7250 - val_loss: 0.7140 - val_acc: 0.8000\n",
      "Epoch 17/90\n",
      "360/360 [==============================] - 0s 47us/step - loss: 0.7230 - acc: 0.7389 - val_loss: 0.7016 - val_acc: 0.8000\n",
      "Epoch 18/90\n",
      "360/360 [==============================] - 0s 47us/step - loss: 0.7105 - acc: 0.7500 - val_loss: 0.6918 - val_acc: 0.7750\n",
      "Epoch 19/90\n",
      "360/360 [==============================] - 0s 44us/step - loss: 0.6989 - acc: 0.7611 - val_loss: 0.6821 - val_acc: 0.8000\n",
      "Epoch 20/90\n",
      "360/360 [==============================] - 0s 44us/step - loss: 0.6875 - acc: 0.7778 - val_loss: 0.6749 - val_acc: 0.8000\n",
      "Epoch 21/90\n",
      "360/360 [==============================] - 0s 47us/step - loss: 0.6762 - acc: 0.7889 - val_loss: 0.6655 - val_acc: 0.8250\n",
      "Epoch 22/90\n",
      "360/360 [==============================] - 0s 47us/step - loss: 0.6653 - acc: 0.8000 - val_loss: 0.6578 - val_acc: 0.8250\n",
      "Epoch 23/90\n",
      "360/360 [==============================] - 0s 47us/step - loss: 0.6550 - acc: 0.8028 - val_loss: 0.6515 - val_acc: 0.8250\n",
      "Epoch 24/90\n",
      "360/360 [==============================] - 0s 50us/step - loss: 0.6459 - acc: 0.8083 - val_loss: 0.6450 - val_acc: 0.8250\n",
      "Epoch 25/90\n",
      "360/360 [==============================] - 0s 47us/step - loss: 0.6369 - acc: 0.8083 - val_loss: 0.6394 - val_acc: 0.8250\n",
      "Epoch 26/90\n",
      "360/360 [==============================] - 0s 50us/step - loss: 0.6283 - acc: 0.8111 - val_loss: 0.6340 - val_acc: 0.8250\n",
      "Epoch 27/90\n",
      "360/360 [==============================] - 0s 53us/step - loss: 0.6211 - acc: 0.8111 - val_loss: 0.6302 - val_acc: 0.8250\n",
      "Epoch 28/90\n",
      "360/360 [==============================] - 0s 53us/step - loss: 0.6119 - acc: 0.8111 - val_loss: 0.6281 - val_acc: 0.8250\n",
      "Epoch 29/90\n",
      "360/360 [==============================] - 0s 50us/step - loss: 0.6039 - acc: 0.8167 - val_loss: 0.6254 - val_acc: 0.8250\n",
      "Epoch 30/90\n",
      "360/360 [==============================] - 0s 47us/step - loss: 0.5972 - acc: 0.8194 - val_loss: 0.6219 - val_acc: 0.8250\n",
      "Epoch 31/90\n",
      "360/360 [==============================] - 0s 55us/step - loss: 0.5905 - acc: 0.8194 - val_loss: 0.6173 - val_acc: 0.8000\n",
      "Epoch 32/90\n",
      "360/360 [==============================] - 0s 47us/step - loss: 0.5843 - acc: 0.8194 - val_loss: 0.6132 - val_acc: 0.8000\n",
      "Epoch 33/90\n",
      "360/360 [==============================] - 0s 53us/step - loss: 0.5785 - acc: 0.8167 - val_loss: 0.6107 - val_acc: 0.8000\n",
      "Epoch 34/90\n",
      "360/360 [==============================] - 0s 42us/step - loss: 0.5733 - acc: 0.8167 - val_loss: 0.6069 - val_acc: 0.8000\n",
      "Epoch 35/90\n",
      "360/360 [==============================] - 0s 50us/step - loss: 0.5686 - acc: 0.8167 - val_loss: 0.6046 - val_acc: 0.8000\n",
      "Epoch 36/90\n",
      "360/360 [==============================] - 0s 47us/step - loss: 0.5636 - acc: 0.8111 - val_loss: 0.6024 - val_acc: 0.8000\n",
      "Epoch 37/90\n",
      "360/360 [==============================] - 0s 53us/step - loss: 0.5595 - acc: 0.8111 - val_loss: 0.6002 - val_acc: 0.8000\n",
      "Epoch 38/90\n",
      "360/360 [==============================] - 0s 78us/step - loss: 0.5556 - acc: 0.8083 - val_loss: 0.5985 - val_acc: 0.8000\n",
      "Epoch 39/90\n",
      "360/360 [==============================] - 0s 64us/step - loss: 0.5522 - acc: 0.8111 - val_loss: 0.5958 - val_acc: 0.8000\n",
      "Epoch 40/90\n",
      "360/360 [==============================] - 0s 66us/step - loss: 0.5484 - acc: 0.8139 - val_loss: 0.5930 - val_acc: 0.8000\n",
      "Epoch 41/90\n",
      "360/360 [==============================] - 0s 55us/step - loss: 0.5474 - acc: 0.8083 - val_loss: 0.5917 - val_acc: 0.8000\n",
      "Epoch 42/90\n",
      "360/360 [==============================] - 0s 55us/step - loss: 0.5427 - acc: 0.8111 - val_loss: 0.5880 - val_acc: 0.8000\n",
      "Epoch 43/90\n",
      "360/360 [==============================] - 0s 61us/step - loss: 0.5389 - acc: 0.8139 - val_loss: 0.5855 - val_acc: 0.8000\n",
      "Epoch 44/90\n",
      "360/360 [==============================] - 0s 58us/step - loss: 0.5364 - acc: 0.8139 - val_loss: 0.5822 - val_acc: 0.8000\n",
      "Epoch 45/90\n",
      "360/360 [==============================] - 0s 64us/step - loss: 0.5338 - acc: 0.8139 - val_loss: 0.5787 - val_acc: 0.8000\n",
      "Epoch 46/90\n",
      "360/360 [==============================] - 0s 58us/step - loss: 0.5304 - acc: 0.8139 - val_loss: 0.5772 - val_acc: 0.8000\n",
      "Epoch 47/90\n",
      "360/360 [==============================] - 0s 61us/step - loss: 0.5279 - acc: 0.8139 - val_loss: 0.5757 - val_acc: 0.8000\n",
      "Epoch 48/90\n",
      "360/360 [==============================] - 0s 55us/step - loss: 0.5257 - acc: 0.8167 - val_loss: 0.5737 - val_acc: 0.8000\n",
      "Epoch 49/90\n",
      "360/360 [==============================] - 0s 55us/step - loss: 0.5232 - acc: 0.8139 - val_loss: 0.5709 - val_acc: 0.8000\n",
      "Epoch 50/90\n",
      "360/360 [==============================] - 0s 64us/step - loss: 0.5210 - acc: 0.8167 - val_loss: 0.5706 - val_acc: 0.8000\n",
      "Epoch 51/90\n",
      "360/360 [==============================] - 0s 58us/step - loss: 0.5186 - acc: 0.8167 - val_loss: 0.5689 - val_acc: 0.8000\n",
      "Epoch 52/90\n",
      "360/360 [==============================] - 0s 58us/step - loss: 0.5169 - acc: 0.8167 - val_loss: 0.5670 - val_acc: 0.8000\n",
      "Epoch 53/90\n",
      "360/360 [==============================] - 0s 69us/step - loss: 0.5145 - acc: 0.8194 - val_loss: 0.5665 - val_acc: 0.8000\n",
      "Epoch 54/90\n",
      "360/360 [==============================] - 0s 72us/step - loss: 0.5127 - acc: 0.8194 - val_loss: 0.5660 - val_acc: 0.8000\n",
      "Epoch 55/90\n",
      "360/360 [==============================] - 0s 58us/step - loss: 0.5111 - acc: 0.8194 - val_loss: 0.5653 - val_acc: 0.8000\n",
      "Epoch 56/90\n",
      "360/360 [==============================] - 0s 66us/step - loss: 0.5092 - acc: 0.8222 - val_loss: 0.5633 - val_acc: 0.8000\n",
      "Epoch 57/90\n",
      "360/360 [==============================] - 0s 47us/step - loss: 0.5070 - acc: 0.8222 - val_loss: 0.5621 - val_acc: 0.8000\n",
      "Epoch 58/90\n",
      "360/360 [==============================] - 0s 47us/step - loss: 0.5052 - acc: 0.8222 - val_loss: 0.5608 - val_acc: 0.8000\n",
      "Epoch 59/90\n",
      "360/360 [==============================] - 0s 39us/step - loss: 0.5052 - acc: 0.8222 - val_loss: 0.5599 - val_acc: 0.8000\n",
      "Epoch 60/90\n",
      "360/360 [==============================] - 0s 44us/step - loss: 0.5021 - acc: 0.8222 - val_loss: 0.5594 - val_acc: 0.8000\n",
      "Epoch 61/90\n",
      "360/360 [==============================] - 0s 44us/step - loss: 0.5002 - acc: 0.8222 - val_loss: 0.5600 - val_acc: 0.8000\n"
     ]
    },
    {
     "name": "stdout",
     "output_type": "stream",
     "text": [
      "Epoch 62/90\n",
      "360/360 [==============================] - 0s 50us/step - loss: 0.4992 - acc: 0.8250 - val_loss: 0.5600 - val_acc: 0.8000\n",
      "Epoch 63/90\n",
      "360/360 [==============================] - 0s 44us/step - loss: 0.4979 - acc: 0.8222 - val_loss: 0.5597 - val_acc: 0.8250\n",
      "Epoch 64/90\n",
      "360/360 [==============================] - 0s 39us/step - loss: 0.4959 - acc: 0.8250 - val_loss: 0.5590 - val_acc: 0.8250\n",
      "Epoch 65/90\n",
      "360/360 [==============================] - 0s 42us/step - loss: 0.4944 - acc: 0.8278 - val_loss: 0.5581 - val_acc: 0.8000\n",
      "Epoch 66/90\n",
      "360/360 [==============================] - 0s 39us/step - loss: 0.4926 - acc: 0.8222 - val_loss: 0.5579 - val_acc: 0.8000\n",
      "Epoch 67/90\n",
      "360/360 [==============================] - 0s 42us/step - loss: 0.4913 - acc: 0.8278 - val_loss: 0.5582 - val_acc: 0.8250\n",
      "Epoch 68/90\n",
      "360/360 [==============================] - 0s 39us/step - loss: 0.4898 - acc: 0.8306 - val_loss: 0.5581 - val_acc: 0.8000\n",
      "Epoch 69/90\n",
      "360/360 [==============================] - 0s 39us/step - loss: 0.4891 - acc: 0.8250 - val_loss: 0.5567 - val_acc: 0.8000\n",
      "Epoch 70/90\n",
      "360/360 [==============================] - 0s 42us/step - loss: 0.4876 - acc: 0.8278 - val_loss: 0.5558 - val_acc: 0.8250\n",
      "Epoch 71/90\n",
      "360/360 [==============================] - 0s 39us/step - loss: 0.4856 - acc: 0.8250 - val_loss: 0.5552 - val_acc: 0.8250\n",
      "Epoch 72/90\n",
      "360/360 [==============================] - 0s 39us/step - loss: 0.4846 - acc: 0.8222 - val_loss: 0.5544 - val_acc: 0.8250\n",
      "Epoch 73/90\n",
      "360/360 [==============================] - 0s 36us/step - loss: 0.4833 - acc: 0.8222 - val_loss: 0.5548 - val_acc: 0.8000\n",
      "Epoch 74/90\n",
      "360/360 [==============================] - 0s 39us/step - loss: 0.4824 - acc: 0.8194 - val_loss: 0.5533 - val_acc: 0.8000\n",
      "Epoch 75/90\n",
      "360/360 [==============================] - 0s 39us/step - loss: 0.4812 - acc: 0.8194 - val_loss: 0.5535 - val_acc: 0.8000\n",
      "Epoch 76/90\n",
      "360/360 [==============================] - 0s 42us/step - loss: 0.4802 - acc: 0.8194 - val_loss: 0.5544 - val_acc: 0.8000\n",
      "Epoch 77/90\n",
      "360/360 [==============================] - 0s 42us/step - loss: 0.4790 - acc: 0.8250 - val_loss: 0.5552 - val_acc: 0.8250\n",
      "Epoch 78/90\n",
      "360/360 [==============================] - 0s 42us/step - loss: 0.4776 - acc: 0.8306 - val_loss: 0.5541 - val_acc: 0.8250\n",
      "Epoch 79/90\n",
      "360/360 [==============================] - 0s 42us/step - loss: 0.4770 - acc: 0.8278 - val_loss: 0.5533 - val_acc: 0.8250\n",
      "Epoch 80/90\n",
      "360/360 [==============================] - 0s 55us/step - loss: 0.4759 - acc: 0.8250 - val_loss: 0.5543 - val_acc: 0.8250\n",
      "Epoch 81/90\n",
      "360/360 [==============================] - 0s 69us/step - loss: 0.4754 - acc: 0.8278 - val_loss: 0.5547 - val_acc: 0.8250\n",
      "Epoch 82/90\n",
      "360/360 [==============================] - 0s 64us/step - loss: 0.4736 - acc: 0.8306 - val_loss: 0.5539 - val_acc: 0.8250\n",
      "Epoch 83/90\n",
      "360/360 [==============================] - 0s 55us/step - loss: 0.4731 - acc: 0.8306 - val_loss: 0.5533 - val_acc: 0.8250\n",
      "Epoch 84/90\n",
      "360/360 [==============================] - 0s 58us/step - loss: 0.4722 - acc: 0.8306 - val_loss: 0.5533 - val_acc: 0.8250\n",
      "Epoch 85/90\n",
      "360/360 [==============================] - 0s 61us/step - loss: 0.4713 - acc: 0.8306 - val_loss: 0.5509 - val_acc: 0.8250\n",
      "Epoch 86/90\n",
      "360/360 [==============================] - 0s 61us/step - loss: 0.4707 - acc: 0.8333 - val_loss: 0.5516 - val_acc: 0.8250\n",
      "Epoch 87/90\n",
      "360/360 [==============================] - 0s 66us/step - loss: 0.4700 - acc: 0.8389 - val_loss: 0.5524 - val_acc: 0.8250\n",
      "Epoch 88/90\n",
      "360/360 [==============================] - 0s 55us/step - loss: 0.4694 - acc: 0.8361 - val_loss: 0.5540 - val_acc: 0.8250\n",
      "Epoch 89/90\n",
      "360/360 [==============================] - 0s 61us/step - loss: 0.4698 - acc: 0.8361 - val_loss: 0.5561 - val_acc: 0.8250\n",
      "Epoch 90/90\n",
      "360/360 [==============================] - 0s 55us/step - loss: 0.4692 - acc: 0.8333 - val_loss: 0.5575 - val_acc: 0.8250\n"
     ]
    }
   ],
   "source": [
    "history = model.fit(X_train, y_train, epochs = 90, batch_size = 32, verbose = 1, validation_data = [X_val, y_val])\n",
    "history_dict=history.history"
   ]
  },
  {
   "cell_type": "code",
   "execution_count": 63,
   "metadata": {},
   "outputs": [
    {
     "data": {
      "text/plain": [
       "Text(0.5,0,'Epochs')"
      ]
     },
     "execution_count": 63,
     "metadata": {},
     "output_type": "execute_result"
    },
    {
     "data": {
      "text/plain": [
       "<Figure size 432x288 with 0 Axes>"
      ]
     },
     "metadata": {},
     "output_type": "display_data"
    },
    {
     "data": {
      "image/png": "[encoded data removed]",
      "text/plain": [
       "<Figure size 432x288 with 1 Axes>"
      ]
     },
     "metadata": {
      "needs_background": "light"
     },
     "output_type": "display_data"
    }
   ],
   "source": [
    "# Plot training loss and validation split loss over the epochs\n",
    "\n",
    "loss_values = history_dict['loss']\n",
    "val_loss_values=history_dict['val_loss']\n",
    "plt.figure()\n",
    "plt.figure()\n",
    "plt.plot(loss_values,'b',label='training loss')\n",
    "plt.plot(val_loss_values,'r',label='val training loss')\n",
    "plt.legend()\n",
    "plt.xlabel(\"Epochs\")"
   ]
  },
  {
   "cell_type": "code",
   "execution_count": 64,
   "metadata": {},
   "outputs": [
    {
     "data": {
      "text/plain": [
       "<matplotlib.legend.Legend at 0x18d71082e48>"
      ]
     },
     "execution_count": 64,
     "metadata": {},
     "output_type": "execute_result"
    },
    {
     "data": {
      "image/png": "[encoded data removed]",
      "text/plain": [
       "<Figure size 432x288 with 1 Axes>"
      ]
     },
     "metadata": {
      "needs_background": "light"
     },
     "output_type": "display_data"
    }
   ],
   "source": [
    "# Plot accuracy over the epochs\n",
    "accuracy_values = history_dict['acc']\n",
    "val_accuracy_values=history_dict['val_acc']\n",
    "plt.plot(val_accuracy_values,'-r',label='val_acc')\n",
    "plt.plot(accuracy_values,'-b',label='acc')\n",
    "plt.legend()"
   ]
  },
  {
   "cell_type": "code",
   "execution_count": 65,
   "metadata": {},
   "outputs": [
    {
     "name": "stdout",
     "output_type": "stream",
     "text": [
      "_________________________________________________________________\n",
      "Layer (type)                 Output Shape              Param #   \n",
      "=================================================================\n",
      "dense_13 (Dense)             (None, 11)                352       \n",
      "_________________________________________________________________\n",
      "dense_14 (Dense)             (None, 7)                 84        \n",
      "_________________________________________________________________\n",
      "dense_15 (Dense)             (None, 1)                 8         \n",
      "=================================================================\n",
      "Total params: 444\n",
      "Trainable params: 444\n",
      "Non-trainable params: 0\n",
      "_________________________________________________________________\n"
     ]
    }
   ],
   "source": [
    "model.summary()"
   ]
  },
  {
   "cell_type": "code",
   "execution_count": 66,
   "metadata": {},
   "outputs": [],
   "source": [
    "model.save_weights('model_weights1.h5')"
   ]
  },
  {
   "cell_type": "code",
   "execution_count": 67,
   "metadata": {},
   "outputs": [
    {
     "data": {
      "text/plain": [
       "array([[18,  2],\n",
       "       [ 5, 15]], dtype=int64)"
      ]
     },
     "execution_count": 67,
     "metadata": {},
     "output_type": "execute_result"
    }
   ],
   "source": [
    "y_val_pred = model.predict(X_val) \n",
    "rounded = [round(x[0]) for x in y_val_pred]\n",
    "ypred1 = np.array(rounded,dtype='int64')\n",
    "confusion_matrix(y_val,ypred1)"
   ]
  },
  {
   "cell_type": "code",
   "execution_count": 68,
   "metadata": {},
   "outputs": [
    {
     "name": "stdout",
     "output_type": "stream",
     "text": [
      "Validation auc:  0.825\n"
     ]
    }
   ],
   "source": [
    "from sklearn.metrics import roc_curve, auc\n",
    "false_positive_rate, true_positive_rate, thresholds = roc_curve(y_val, ypred1)\n",
    "roc_auc = auc(false_positive_rate, true_positive_rate)\n",
    "print(\"Validation auc: \", roc_auc)"
   ]
  },
  {
   "cell_type": "code",
   "execution_count": 69,
   "metadata": {},
   "outputs": [
    {
     "name": "stdout",
     "output_type": "stream",
     "text": [
      "              precision    recall  f1-score   support\n",
      "\n",
      "           0       0.78      0.90      0.84        20\n",
      "           1       0.88      0.75      0.81        20\n",
      "\n",
      "    accuracy                           0.82        40\n",
      "   macro avg       0.83      0.82      0.82        40\n",
      "weighted avg       0.83      0.82      0.82        40\n",
      "\n"
     ]
    }
   ],
   "source": [
    "from sklearn.metrics import classification_report\n",
    "print(classification_report(y_val, ypred1))"
   ]
  },
  {
   "cell_type": "code",
   "execution_count": 70,
   "metadata": {},
   "outputs": [
    {
     "data": {
      "text/plain": [
       "0.825"
      ]
     },
     "execution_count": 70,
     "metadata": {},
     "output_type": "execute_result"
    }
   ],
   "source": [
    "from sklearn.metrics import accuracy_score\n",
    "accuracy_score(y_val, ypred1)"
   ]
  },
  {
   "cell_type": "code",
   "execution_count": 71,
   "metadata": {},
   "outputs": [
    {
     "data": {
      "text/plain": [
       "0.824010056568196"
      ]
     },
     "execution_count": 71,
     "metadata": {},
     "output_type": "execute_result"
    }
   ],
   "source": [
    "from sklearn.metrics import f1_score\n",
    "f1_score(y_val, ypred1, average='weighted')"
   ]
  },
  {
   "cell_type": "code",
   "execution_count": null,
   "metadata": {},
   "outputs": [],
   "source": []
  }
 ],
 "metadata": {
  "kernelspec": {
   "display_name": "Python 3",
   "language": "python",
   "name": "python3"
  },
  "language_info": {
   "codemirror_mode": {
    "name": "ipython",
    "version": 3
   },
   "file_extension": ".py",
   "mimetype": "text/x-python",
   "name": "python",
   "nbconvert_exporter": "python",
   "pygments_lexer": "ipython3",
   "version": "3.7.0"
  }
 },
 "nbformat": 4,
 "nbformat_minor": 2
}

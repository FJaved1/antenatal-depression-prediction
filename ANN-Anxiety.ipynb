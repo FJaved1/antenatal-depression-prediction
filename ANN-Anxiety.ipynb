{
 "cells": [
  {
   "cell_type": "code",
   "execution_count": 86,
   "metadata": {},
   "outputs": [],
   "source": [
    "import numpy as np\n",
    "import pandas as pd\n",
    "import matplotlib.pyplot as plt\n",
    "%matplotlib inline\n",
    "\n",
    "\n",
    "from sklearn.metrics import classification_report\n",
    "from sklearn.preprocessing import LabelEncoder\n",
    "from sklearn.metrics import confusion_matrix\n",
    "from sklearn.metrics import precision_score\n",
    "from sklearn import preprocessing\n",
    "from sklearn.model_selection import cross_val_score\n",
    "from sklearn.preprocessing import StandardScaler\n",
    "from sklearn.preprocessing import RobustScaler\n",
    "from sklearn.model_selection import StratifiedKFold\n",
    "from sklearn.model_selection import KFold\n",
    "from sklearn.preprocessing import OneHotEncoder\n",
    "from sklearn.compose import ColumnTransformer\n",
    "from sklearn.preprocessing import StandardScaler, OneHotEncoder\n",
    "\n",
    "import tensorflow as tf\n",
    "import datetime\n",
    "\n",
    "import keras\n",
    "import keras.backend as K\n",
    "from keras.models import Sequential\n",
    "from keras.optimizers import Adam\n",
    "from keras.callbacks import EarlyStopping\n",
    "from keras.utils import to_categorical\n",
    "from keras.layers import BatchNormalization\n",
    "from keras import regularizers\n",
    "from keras.wrappers.scikit_learn import KerasClassifier\n",
    "from keras.layers import Dense, Dropout, Activation\n",
    "from keras.utils import np_utils\n",
    "from keras import regularizers\n",
    "from keras import initializers\n",
    "from keras.optimizers import SGD\n",
    "import autokeras as ak"
   ]
  },
  {
   "cell_type": "code",
   "execution_count": 87,
   "metadata": {},
   "outputs": [],
   "source": [
    "# load dataset\n",
    "dataset = pd.read_csv(r\"C:\\Users\\HP\\Desktop\\Final\\Train-72P-A.csv\")\n",
    "dataset = dataset.drop('Unnamed: 0', axis = 1)"
   ]
  },
  {
   "cell_type": "code",
   "execution_count": 88,
   "metadata": {},
   "outputs": [],
   "source": [
    "# load dataset\n",
    "valdata = pd.read_csv(r\"C:\\Users\\HP\\Desktop\\Final\\Validation-8P-A.csv\")\n",
    "valdata = valdata.drop('Unnamed: 0', axis = 1)"
   ]
  },
  {
   "cell_type": "code",
   "execution_count": 89,
   "metadata": {},
   "outputs": [],
   "source": [
    "X = dataset.drop(['AnxietyDi'],axis=1).values #features = X arrays \n",
    "y_train = dataset['AnxietyDi'].values #labels = y arrays"
   ]
  },
  {
   "cell_type": "code",
   "execution_count": 90,
   "metadata": {},
   "outputs": [],
   "source": [
    "X_val = valdata.drop(['AnxietyDi'],axis=1).values #features = X arrays \n",
    "y_val = valdata['AnxietyDi'].values #labels = y arrays"
   ]
  },
  {
   "cell_type": "code",
   "execution_count": 91,
   "metadata": {},
   "outputs": [],
   "source": [
    "columns_to_encode = [\n",
    "'Household_decision'\n",
    " ]\n",
    "columns_to_scale  = [\n",
    " 'Stat1',\n",
    " 'Stat2',\n",
    " 'Stat3',\n",
    " 'Stat4',\n",
    " 'Stat5',\n",
    " 'Stat6',\n",
    " 'Stat7',\n",
    " 'Stat8',\n",
    " 'Stat9',\n",
    " 'Stat10',\n",
    " 'Stat11',\n",
    " 'Stat12',\n",
    " 'Stat13',\n",
    " 'Stat14',\n",
    " 'Stat15',\n",
    " 'Stat16',\n",
    " 'Stat17',\n",
    " 'Stat18',\n",
    " 'Stat19',\n",
    " 'Stat20',\n",
    " 'Stat21',\n",
    " 'Stat22',\n",
    " 'Stat23',\n",
    " 'Stat24', \n",
    " 'Pregnancy', \n",
    " 'Used_Plannig',\n",
    " 'Age'\n",
    "]\n",
    "\n",
    "\n",
    "# Instantiate encoder/scaler\n",
    "scaler = StandardScaler()\n",
    "ohe    = OneHotEncoder(sparse=False)\n",
    "\n",
    "\n",
    "\n",
    "# Scale and Encode Separate Columns\n",
    "scaled_columns  = scaler.fit_transform(dataset[columns_to_scale]) \n",
    "encoded_columns =    ohe.fit_transform(dataset[columns_to_encode])\n",
    "#encoded_columns = encoder.fit_transform(dataset[columns_to_encode])\n",
    "\n",
    "# Concatenate (Column-Bind) Processed Columns Back Together\n",
    "X_train = np.concatenate([scaled_columns, encoded_columns], axis=1)"
   ]
  },
  {
   "cell_type": "code",
   "execution_count": 92,
   "metadata": {},
   "outputs": [],
   "source": [
    "columns_to_encode = [\n",
    "'Household_decision'\n",
    " ]\n",
    "columns_to_scale  = [\n",
    " 'Stat1',\n",
    " 'Stat2',\n",
    " 'Stat3',\n",
    " 'Stat4',\n",
    " 'Stat5',\n",
    " 'Stat6',\n",
    " 'Stat7',\n",
    " 'Stat8',\n",
    " 'Stat9',\n",
    " 'Stat10',\n",
    " 'Stat11',\n",
    " 'Stat12',\n",
    " 'Stat13',\n",
    " 'Stat14',\n",
    " 'Stat15',\n",
    " 'Stat16',\n",
    " 'Stat17',\n",
    " 'Stat18',\n",
    " 'Stat19',\n",
    " 'Stat20',\n",
    " 'Stat21',\n",
    " 'Stat22',\n",
    " 'Stat23',\n",
    " 'Stat24',\n",
    " 'Pregnancy', \n",
    " 'Used_Plannig',\n",
    " 'Age'\n",
    "]\n",
    "\n",
    "\n",
    "# Scale and Encode Separate Columns\n",
    "scaled_columns  = scaler.transform(valdata[columns_to_scale]) \n",
    "encoded_columns =    ohe.transform(valdata[columns_to_encode])\n",
    "\n",
    "# Concatenate (Column-Bind) Processed Columns Back Together\n",
    "X_val = np.concatenate([scaled_columns, encoded_columns], axis=1)"
   ]
  },
  {
   "cell_type": "code",
   "execution_count": 93,
   "metadata": {},
   "outputs": [],
   "source": [
    "model = Sequential()\n",
    "model.add(Dense(21,input_shape=(31,),activation='relu',kernel_regularizer=regularizers.l2(0.01), kernel_initializer = initializers.glorot_uniform(seed=None)))\n",
    "model.add(Dense(1, activation='sigmoid',kernel_initializer = initializers.glorot_uniform(seed=None),kernel_regularizer=regularizers.l2(0.01)))\n",
    "\n",
    "model.compile(loss='binary_crossentropy',optimizer=Adam(lr = 0.001), metrics = ['accuracy'])"
   ]
  },
  {
   "cell_type": "code",
   "execution_count": 94,
   "metadata": {},
   "outputs": [
    {
     "name": "stdout",
     "output_type": "stream",
     "text": [
      "Train on 360 samples, validate on 40 samples\n",
      "Epoch 1/70\n",
      "360/360 [==============================] - 0s 1ms/step - loss: 1.0461 - acc: 0.4806 - val_loss: 0.9563 - val_acc: 0.5250\n",
      "Epoch 2/70\n",
      "360/360 [==============================] - 0s 91us/step - loss: 0.9531 - acc: 0.5722 - val_loss: 0.8735 - val_acc: 0.6750\n",
      "Epoch 3/70\n",
      "360/360 [==============================] - 0s 55us/step - loss: 0.8901 - acc: 0.6139 - val_loss: 0.8287 - val_acc: 0.7500\n",
      "Epoch 4/70\n",
      "360/360 [==============================] - 0s 61us/step - loss: 0.8476 - acc: 0.6306 - val_loss: 0.8014 - val_acc: 0.7250\n",
      "Epoch 5/70\n",
      "360/360 [==============================] - 0s 61us/step - loss: 0.8151 - acc: 0.6472 - val_loss: 0.7822 - val_acc: 0.7500\n",
      "Epoch 6/70\n",
      "360/360 [==============================] - 0s 69us/step - loss: 0.7902 - acc: 0.6750 - val_loss: 0.7672 - val_acc: 0.7750\n",
      "Epoch 7/70\n",
      "360/360 [==============================] - 0s 64us/step - loss: 0.7688 - acc: 0.6861 - val_loss: 0.7535 - val_acc: 0.8000\n",
      "Epoch 8/70\n",
      "360/360 [==============================] - 0s 58us/step - loss: 0.7507 - acc: 0.7028 - val_loss: 0.7404 - val_acc: 0.8000\n",
      "Epoch 9/70\n",
      "360/360 [==============================] - 0s 66us/step - loss: 0.7337 - acc: 0.7139 - val_loss: 0.7280 - val_acc: 0.7750\n",
      "Epoch 10/70\n",
      "360/360 [==============================] - 0s 55us/step - loss: 0.7194 - acc: 0.7278 - val_loss: 0.7178 - val_acc: 0.8000\n",
      "Epoch 11/70\n",
      "360/360 [==============================] - 0s 69us/step - loss: 0.7062 - acc: 0.7278 - val_loss: 0.7083 - val_acc: 0.8000\n",
      "Epoch 12/70\n",
      "360/360 [==============================] - 0s 55us/step - loss: 0.6933 - acc: 0.7333 - val_loss: 0.6994 - val_acc: 0.8000\n",
      "Epoch 13/70\n",
      "360/360 [==============================] - 0s 58us/step - loss: 0.6815 - acc: 0.7306 - val_loss: 0.6917 - val_acc: 0.8000\n",
      "Epoch 14/70\n",
      "360/360 [==============================] - 0s 44us/step - loss: 0.6708 - acc: 0.7389 - val_loss: 0.6837 - val_acc: 0.7750\n",
      "Epoch 15/70\n",
      "360/360 [==============================] - 0s 47us/step - loss: 0.6609 - acc: 0.7444 - val_loss: 0.6759 - val_acc: 0.7750\n",
      "Epoch 16/70\n",
      "360/360 [==============================] - 0s 47us/step - loss: 0.6516 - acc: 0.7583 - val_loss: 0.6669 - val_acc: 0.7750\n",
      "Epoch 17/70\n",
      "360/360 [==============================] - 0s 53us/step - loss: 0.6429 - acc: 0.7694 - val_loss: 0.6604 - val_acc: 0.8000\n",
      "Epoch 18/70\n",
      "360/360 [==============================] - 0s 44us/step - loss: 0.6343 - acc: 0.7806 - val_loss: 0.6553 - val_acc: 0.8000\n",
      "Epoch 19/70\n",
      "360/360 [==============================] - 0s 50us/step - loss: 0.6267 - acc: 0.7889 - val_loss: 0.6495 - val_acc: 0.8000\n",
      "Epoch 20/70\n",
      "360/360 [==============================] - 0s 42us/step - loss: 0.6195 - acc: 0.7833 - val_loss: 0.6450 - val_acc: 0.8000\n",
      "Epoch 21/70\n",
      "360/360 [==============================] - 0s 47us/step - loss: 0.6121 - acc: 0.7889 - val_loss: 0.6399 - val_acc: 0.7750\n",
      "Epoch 22/70\n",
      "360/360 [==============================] - 0s 64us/step - loss: 0.6067 - acc: 0.8111 - val_loss: 0.6348 - val_acc: 0.7750\n",
      "Epoch 23/70\n",
      "360/360 [==============================] - 0s 44us/step - loss: 0.5996 - acc: 0.8083 - val_loss: 0.6298 - val_acc: 0.7750\n",
      "Epoch 24/70\n",
      "360/360 [==============================] - 0s 44us/step - loss: 0.5942 - acc: 0.8111 - val_loss: 0.6262 - val_acc: 0.7750\n",
      "Epoch 25/70\n",
      "360/360 [==============================] - 0s 50us/step - loss: 0.5882 - acc: 0.8139 - val_loss: 0.6222 - val_acc: 0.7750\n",
      "Epoch 26/70\n",
      "360/360 [==============================] - 0s 47us/step - loss: 0.5828 - acc: 0.8194 - val_loss: 0.6187 - val_acc: 0.7750\n",
      "Epoch 27/70\n",
      "360/360 [==============================] - 0s 47us/step - loss: 0.5781 - acc: 0.8222 - val_loss: 0.6158 - val_acc: 0.7750\n",
      "Epoch 28/70\n",
      "360/360 [==============================] - 0s 47us/step - loss: 0.5727 - acc: 0.8194 - val_loss: 0.6141 - val_acc: 0.7750\n",
      "Epoch 29/70\n",
      "360/360 [==============================] - 0s 50us/step - loss: 0.5687 - acc: 0.8056 - val_loss: 0.6116 - val_acc: 0.7750\n",
      "Epoch 30/70\n",
      "360/360 [==============================] - 0s 53us/step - loss: 0.5642 - acc: 0.8000 - val_loss: 0.6095 - val_acc: 0.7750\n",
      "Epoch 31/70\n",
      "360/360 [==============================] - 0s 47us/step - loss: 0.5601 - acc: 0.8083 - val_loss: 0.6046 - val_acc: 0.7750\n",
      "Epoch 32/70\n",
      "360/360 [==============================] - 0s 53us/step - loss: 0.5563 - acc: 0.8111 - val_loss: 0.6026 - val_acc: 0.8000\n",
      "Epoch 33/70\n",
      "360/360 [==============================] - 0s 44us/step - loss: 0.5523 - acc: 0.8083 - val_loss: 0.5988 - val_acc: 0.8000\n",
      "Epoch 34/70\n",
      "360/360 [==============================] - 0s 47us/step - loss: 0.5483 - acc: 0.8056 - val_loss: 0.5968 - val_acc: 0.8000\n",
      "Epoch 35/70\n",
      "360/360 [==============================] - 0s 47us/step - loss: 0.5452 - acc: 0.8056 - val_loss: 0.5970 - val_acc: 0.7750\n",
      "Epoch 36/70\n",
      "360/360 [==============================] - 0s 50us/step - loss: 0.5422 - acc: 0.8139 - val_loss: 0.5966 - val_acc: 0.7750\n",
      "Epoch 37/70\n",
      "360/360 [==============================] - 0s 47us/step - loss: 0.5384 - acc: 0.8111 - val_loss: 0.5942 - val_acc: 0.8000\n",
      "Epoch 38/70\n",
      "360/360 [==============================] - 0s 50us/step - loss: 0.5354 - acc: 0.8167 - val_loss: 0.5894 - val_acc: 0.8250\n",
      "Epoch 39/70\n",
      "360/360 [==============================] - 0s 42us/step - loss: 0.5321 - acc: 0.8194 - val_loss: 0.5881 - val_acc: 0.8250\n",
      "Epoch 40/70\n",
      "360/360 [==============================] - 0s 47us/step - loss: 0.5291 - acc: 0.8167 - val_loss: 0.5865 - val_acc: 0.8250\n",
      "Epoch 41/70\n",
      "360/360 [==============================] - 0s 44us/step - loss: 0.5260 - acc: 0.8167 - val_loss: 0.5870 - val_acc: 0.8250\n",
      "Epoch 42/70\n",
      "360/360 [==============================] - 0s 39us/step - loss: 0.5232 - acc: 0.8222 - val_loss: 0.5858 - val_acc: 0.8250\n",
      "Epoch 43/70\n",
      "360/360 [==============================] - 0s 53us/step - loss: 0.5209 - acc: 0.8250 - val_loss: 0.5850 - val_acc: 0.8250\n",
      "Epoch 44/70\n",
      "360/360 [==============================] - 0s 44us/step - loss: 0.5183 - acc: 0.8167 - val_loss: 0.5845 - val_acc: 0.8250\n",
      "Epoch 45/70\n",
      "360/360 [==============================] - 0s 50us/step - loss: 0.5156 - acc: 0.8278 - val_loss: 0.5847 - val_acc: 0.8250\n",
      "Epoch 46/70\n",
      "360/360 [==============================] - 0s 50us/step - loss: 0.5137 - acc: 0.8278 - val_loss: 0.5831 - val_acc: 0.8250\n",
      "Epoch 47/70\n",
      "360/360 [==============================] - 0s 53us/step - loss: 0.5119 - acc: 0.8250 - val_loss: 0.5850 - val_acc: 0.8250\n",
      "Epoch 48/70\n",
      "360/360 [==============================] - 0s 44us/step - loss: 0.5086 - acc: 0.8222 - val_loss: 0.5851 - val_acc: 0.8250\n",
      "Epoch 49/70\n",
      "360/360 [==============================] - 0s 47us/step - loss: 0.5062 - acc: 0.8222 - val_loss: 0.5838 - val_acc: 0.8250\n",
      "Epoch 50/70\n",
      "360/360 [==============================] - 0s 61us/step - loss: 0.5041 - acc: 0.8361 - val_loss: 0.5836 - val_acc: 0.8250\n",
      "Epoch 51/70\n",
      "360/360 [==============================] - 0s 50us/step - loss: 0.5024 - acc: 0.8444 - val_loss: 0.5849 - val_acc: 0.8250\n",
      "Epoch 52/70\n",
      "360/360 [==============================] - 0s 55us/step - loss: 0.5006 - acc: 0.8333 - val_loss: 0.5851 - val_acc: 0.8250\n",
      "Epoch 53/70\n",
      "360/360 [==============================] - 0s 47us/step - loss: 0.4993 - acc: 0.8278 - val_loss: 0.5850 - val_acc: 0.8250\n",
      "Epoch 54/70\n",
      "360/360 [==============================] - 0s 47us/step - loss: 0.4975 - acc: 0.8333 - val_loss: 0.5832 - val_acc: 0.8250\n",
      "Epoch 55/70\n",
      "360/360 [==============================] - 0s 42us/step - loss: 0.4954 - acc: 0.8333 - val_loss: 0.5804 - val_acc: 0.8250\n",
      "Epoch 56/70\n",
      "360/360 [==============================] - 0s 58us/step - loss: 0.4941 - acc: 0.8333 - val_loss: 0.5797 - val_acc: 0.8250\n",
      "Epoch 57/70\n",
      "360/360 [==============================] - 0s 44us/step - loss: 0.4922 - acc: 0.8306 - val_loss: 0.5793 - val_acc: 0.8250\n",
      "Epoch 58/70\n",
      "360/360 [==============================] - 0s 47us/step - loss: 0.4906 - acc: 0.8333 - val_loss: 0.5789 - val_acc: 0.8250\n",
      "Epoch 59/70\n",
      "360/360 [==============================] - 0s 36us/step - loss: 0.4896 - acc: 0.8333 - val_loss: 0.5815 - val_acc: 0.8000\n",
      "Epoch 60/70\n",
      "360/360 [==============================] - 0s 39us/step - loss: 0.4881 - acc: 0.8361 - val_loss: 0.5792 - val_acc: 0.8250\n",
      "Epoch 61/70\n",
      "360/360 [==============================] - 0s 42us/step - loss: 0.4863 - acc: 0.8333 - val_loss: 0.5776 - val_acc: 0.8000\n"
     ]
    },
    {
     "name": "stdout",
     "output_type": "stream",
     "text": [
      "Epoch 62/70\n",
      "360/360 [==============================] - 0s 39us/step - loss: 0.4854 - acc: 0.8361 - val_loss: 0.5784 - val_acc: 0.8000\n",
      "Epoch 63/70\n",
      "360/360 [==============================] - 0s 39us/step - loss: 0.4851 - acc: 0.8333 - val_loss: 0.5802 - val_acc: 0.8250\n",
      "Epoch 64/70\n",
      "360/360 [==============================] - 0s 33us/step - loss: 0.4832 - acc: 0.8333 - val_loss: 0.5791 - val_acc: 0.8000\n",
      "Epoch 65/70\n",
      "360/360 [==============================] - 0s 36us/step - loss: 0.4816 - acc: 0.8333 - val_loss: 0.5794 - val_acc: 0.8000\n",
      "Epoch 66/70\n",
      "360/360 [==============================] - 0s 39us/step - loss: 0.4808 - acc: 0.8361 - val_loss: 0.5801 - val_acc: 0.8250\n",
      "Epoch 67/70\n",
      "360/360 [==============================] - 0s 39us/step - loss: 0.4793 - acc: 0.8278 - val_loss: 0.5803 - val_acc: 0.8250\n",
      "Epoch 68/70\n",
      "360/360 [==============================] - 0s 36us/step - loss: 0.4782 - acc: 0.8278 - val_loss: 0.5813 - val_acc: 0.8250\n",
      "Epoch 69/70\n",
      "360/360 [==============================] - 0s 36us/step - loss: 0.4774 - acc: 0.8306 - val_loss: 0.5812 - val_acc: 0.8250\n",
      "Epoch 70/70\n",
      "360/360 [==============================] - 0s 36us/step - loss: 0.4761 - acc: 0.8306 - val_loss: 0.5837 - val_acc: 0.8250\n"
     ]
    }
   ],
   "source": [
    "history = model.fit(X_train, y_train, epochs = 70, batch_size = 32, verbose = 1, validation_data = [X_val, y_val])\n",
    "history_dict=history.history"
   ]
  },
  {
   "cell_type": "code",
   "execution_count": 95,
   "metadata": {},
   "outputs": [
    {
     "data": {
      "text/plain": [
       "Text(0.5,0,'Epochs')"
      ]
     },
     "execution_count": 95,
     "metadata": {},
     "output_type": "execute_result"
    },
    {
     "data": {
      "text/plain": [
       "<Figure size 432x288 with 0 Axes>"
      ]
     },
     "metadata": {},
     "output_type": "display_data"
    },
    {
     "data": {
      "image/png": "[encoded data removed]",
      "text/plain": [
       "<Figure size 432x288 with 1 Axes>"
      ]
     },
     "metadata": {
      "needs_background": "light"
     },
     "output_type": "display_data"
    }
   ],
   "source": [
    "# Plot training loss and validation split loss over the epochs\n",
    "\n",
    "loss_values = history_dict['loss']\n",
    "val_loss_values=history_dict['val_loss']\n",
    "plt.figure()\n",
    "plt.figure()\n",
    "plt.plot(loss_values,'b',label='training loss')\n",
    "plt.plot(val_loss_values,'r',label='val training loss')\n",
    "plt.legend()\n",
    "plt.xlabel(\"Epochs\")"
   ]
  },
  {
   "cell_type": "code",
   "execution_count": 96,
   "metadata": {},
   "outputs": [
    {
     "data": {
      "text/plain": [
       "<matplotlib.legend.Legend at 0x1ce4b781ba8>"
      ]
     },
     "execution_count": 96,
     "metadata": {},
     "output_type": "execute_result"
    },
    {
     "data": {
      "image/png": "[encoded data removed]",
      "text/plain": [
       "<Figure size 432x288 with 1 Axes>"
      ]
     },
     "metadata": {
      "needs_background": "light"
     },
     "output_type": "display_data"
    }
   ],
   "source": [
    "# Plot accuracy over the epochs\n",
    "accuracy_values = history_dict['acc']\n",
    "val_accuracy_values=history_dict['val_acc']\n",
    "plt.plot(val_accuracy_values,'-r',label='val_acc')\n",
    "plt.plot(accuracy_values,'-b',label='acc')\n",
    "plt.legend()"
   ]
  },
  {
   "cell_type": "code",
   "execution_count": 97,
   "metadata": {},
   "outputs": [
    {
     "name": "stdout",
     "output_type": "stream",
     "text": [
      "_________________________________________________________________\n",
      "Layer (type)                 Output Shape              Param #   \n",
      "=================================================================\n",
      "dense_11 (Dense)             (None, 21)                672       \n",
      "_________________________________________________________________\n",
      "dense_12 (Dense)             (None, 1)                 22        \n",
      "=================================================================\n",
      "Total params: 694\n",
      "Trainable params: 694\n",
      "Non-trainable params: 0\n",
      "_________________________________________________________________\n"
     ]
    }
   ],
   "source": [
    "model.summary()"
   ]
  },
  {
   "cell_type": "code",
   "execution_count": 98,
   "metadata": {},
   "outputs": [
    {
     "data": {
      "text/plain": [
       "array([[10,  4],\n",
       "       [ 3, 23]], dtype=int64)"
      ]
     },
     "execution_count": 98,
     "metadata": {},
     "output_type": "execute_result"
    }
   ],
   "source": [
    "y_val_pred = model.predict(X_val) \n",
    "rounded = [round(x[0]) for x in y_val_pred]\n",
    "ypred1 = np.array(rounded,dtype='int64')\n",
    "confusion_matrix(y_val,ypred1)"
   ]
  },
  {
   "cell_type": "code",
   "execution_count": 99,
   "metadata": {},
   "outputs": [
    {
     "name": "stdout",
     "output_type": "stream",
     "text": [
      "Validation auc:  0.7994505494505495\n"
     ]
    }
   ],
   "source": [
    "from sklearn.metrics import roc_curve, auc\n",
    "false_positive_rate, true_positive_rate, thresholds = roc_curve(y_val, ypred1)\n",
    "roc_auc = auc(false_positive_rate, true_positive_rate)\n",
    "print(\"Validation auc: \", roc_auc)"
   ]
  },
  {
   "cell_type": "code",
   "execution_count": 100,
   "metadata": {},
   "outputs": [
    {
     "name": "stdout",
     "output_type": "stream",
     "text": [
      "              precision    recall  f1-score   support\n",
      "\n",
      "           0       0.77      0.71      0.74        14\n",
      "           1       0.85      0.88      0.87        26\n",
      "\n",
      "    accuracy                           0.82        40\n",
      "   macro avg       0.81      0.80      0.80        40\n",
      "weighted avg       0.82      0.82      0.82        40\n",
      "\n"
     ]
    }
   ],
   "source": [
    "from sklearn.metrics import classification_report\n",
    "print(classification_report(y_val, ypred1))"
   ]
  },
  {
   "cell_type": "code",
   "execution_count": 101,
   "metadata": {},
   "outputs": [
    {
     "data": {
      "text/plain": [
       "0.825"
      ]
     },
     "execution_count": 101,
     "metadata": {},
     "output_type": "execute_result"
    }
   ],
   "source": [
    "from sklearn.metrics import accuracy_score\n",
    "accuracy_score(y_val, ypred1)"
   ]
  },
  {
   "cell_type": "code",
   "execution_count": 102,
   "metadata": {},
   "outputs": [
    {
     "data": {
      "text/plain": [
       "0.8234102026554858"
      ]
     },
     "execution_count": 102,
     "metadata": {},
     "output_type": "execute_result"
    }
   ],
   "source": [
    "from sklearn.metrics import f1_score\n",
    "f1_score(y_val, ypred1, average='weighted')"
   ]
  },
  {
   "cell_type": "code",
   "execution_count": null,
   "metadata": {},
   "outputs": [],
   "source": []
  }
 ],
 "metadata": {
  "kernelspec": {
   "display_name": "Python 3",
   "language": "python",
   "name": "python3"
  },
  "language_info": {
   "codemirror_mode": {
    "name": "ipython",
    "version": 3
   },
   "file_extension": ".py",
   "mimetype": "text/x-python",
   "name": "python",
   "nbconvert_exporter": "python",
   "pygments_lexer": "ipython3",
   "version": "3.7.0"
  }
 },
 "nbformat": 4,
 "nbformat_minor": 2
}
